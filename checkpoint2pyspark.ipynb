{
 "cells": [
  {
   "cell_type": "markdown",
   "metadata": {},
   "source": [
    "# Pyspark checkpoint 2 Data cleaning\n",
    "\n",
    "contributions: RISHAB AGRAHARI\n",
    "               SUBHAM SANKET\n",
    "               "
   ]
  },
  {
   "cell_type": "code",
   "execution_count": null,
   "metadata": {},
   "outputs": [],
   "source": [
    "import findspark\n",
    "findspark.init('/usr/local/spark')"
   ]
  },
  {
   "cell_type": "code",
   "execution_count": 2,
   "metadata": {},
   "outputs": [],
   "source": [
    "import pyspark"
   ]
  },
  {
   "cell_type": "code",
   "execution_count": 3,
   "metadata": {},
   "outputs": [],
   "source": [
    "from pyspark.sql import SparkSession\n",
    "from pyspark.sql.functions import *\n",
    "from pyspark.sql.types import StringType, BooleanType, DateType"
   ]
  },
  {
   "cell_type": "code",
   "execution_count": 12,
   "metadata": {},
   "outputs": [],
   "source": [
    "spark=SparkSession.builder.appName(\"retail_dataset\").getOrCreate()"
   ]
  },
  {
   "cell_type": "code",
   "execution_count": 15,
   "metadata": {},
   "outputs": [],
   "source": [
    "mydf = spark.read.csv('User_product_purchase_details_p2.csv',inferSchema = True, header = True)"
   ]
  },
  {
   "cell_type": "code",
   "execution_count": 16,
   "metadata": {},
   "outputs": [
    {
     "name": "stdout",
     "output_type": "stream",
     "text": [
      "root\n",
      " |-- User_ID: integer (nullable = true)\n",
      " |-- Product_ID: string (nullable = true)\n",
      " |-- City_Category: string (nullable = true)\n",
      " |-- Stay_In_Current_City_Years: string (nullable = true)\n",
      " |-- Marital_Status: integer (nullable = true)\n",
      " |-- Product_Category_1: integer (nullable = true)\n",
      " |-- Product_Category_2: integer (nullable = true)\n",
      " |-- Product_Category_3: integer (nullable = true)\n",
      " |-- Purchase: integer (nullable = true)\n",
      "\n"
     ]
    }
   ],
   "source": [
    "mydf.printSchema()"
   ]
  },
  {
   "cell_type": "code",
   "execution_count": 17,
   "metadata": {},
   "outputs": [
    {
     "name": "stdout",
     "output_type": "stream",
     "text": [
      "+-------+----------+-------------+--------------------------+--------------+------------------+------------------+------------------+--------+\n",
      "|User_ID|Product_ID|City_Category|Stay_In_Current_City_Years|Marital_Status|Product_Category_1|Product_Category_2|Product_Category_3|Purchase|\n",
      "+-------+----------+-------------+--------------------------+--------------+------------------+------------------+------------------+--------+\n",
      "|      0|         0|            0|                         0|             0|                 0|            173638|            383247|       0|\n",
      "+-------+----------+-------------+--------------------------+--------------+------------------+------------------+------------------+--------+\n",
      "\n"
     ]
    }
   ],
   "source": [
    "mydf.select([count(when(isnan(c) | col(c).isNull(), c)).alias(c)\n",
    "              for c in mydf.schema.names]).show()"
   ]
  },
  {
   "cell_type": "code",
   "execution_count": 28,
   "metadata": {},
   "outputs": [],
   "source": [
    "mydf = mydf.withColumn('new1', split(col('Product_Category_2'), ' ').getItem(0).cast('float')) \\\n",
    "        .withColumn('new2', split(col('Product_Category_3'), ' ').getItem(0).cast('float'))\\\n",
    "        \n",
    "mydf = mydf.drop('Product_Category_2','Product_Category_3')\n",
    "mydf = mydf.withColumnRenamed('new1', 'Product_Category_2') \\\n",
    "        .withColumnRenamed('new2', 'Product_Category_3') \\\n",
    "        "
   ]
  },
  {
   "cell_type": "code",
   "execution_count": 29,
   "metadata": {},
   "outputs": [
    {
     "name": "stdout",
     "output_type": "stream",
     "text": [
      "root\n",
      " |-- User_ID: integer (nullable = true)\n",
      " |-- Product_ID: string (nullable = true)\n",
      " |-- City_Category: string (nullable = true)\n",
      " |-- Stay_In_Current_City_Years: string (nullable = true)\n",
      " |-- Marital_Status: integer (nullable = true)\n",
      " |-- Product_Category_1: integer (nullable = true)\n",
      " |-- Purchase: integer (nullable = true)\n",
      " |-- Product_Category_2: float (nullable = true)\n",
      " |-- Product_Category_3: float (nullable = true)\n",
      "\n"
     ]
    }
   ],
   "source": [
    "mydf.printSchema()"
   ]
  },
  {
   "cell_type": "code",
   "execution_count": 30,
   "metadata": {
    "scrolled": true
   },
   "outputs": [
    {
     "name": "stdout",
     "output_type": "stream",
     "text": [
      "+-------+----------+-------------+--------------------------+--------------+------------------+--------+------------------+------------------+\n",
      "|User_ID|Product_ID|City_Category|Stay_In_Current_City_Years|Marital_Status|Product_Category_1|Purchase|Product_Category_2|Product_Category_3|\n",
      "+-------+----------+-------------+--------------------------+--------------+------------------+--------+------------------+------------------+\n",
      "|1000001| P00069042|            A|                         2|             0|                 3|    8370|              null|              null|\n",
      "|1000001| P00248942|            A|                         2|             0|                 1|   15200|               6.0|              14.0|\n",
      "|1000001| P00087842|            A|                         2|             0|                12|    1422|              null|              null|\n",
      "|1000001| P00085442|            A|                         2|             0|                12|    1057|              14.0|              null|\n",
      "|1000002| P00285442|            C|                        4+|             0|                 8|    7969|              null|              null|\n",
      "|1000003| P00193542|            A|                         3|             0|                 1|   15227|               2.0|              null|\n",
      "|1000004| P00184942|            B|                         2|             1|                 1|   19215|               8.0|              17.0|\n",
      "|1000004| P00346142|            B|                         2|             1|                 1|   15854|              15.0|              null|\n",
      "|1000004|  P0097242|            B|                         2|             1|                 1|   15686|              16.0|              null|\n",
      "|1000005| P00274942|            A|                         1|             1|                 8|    7871|              null|              null|\n",
      "+-------+----------+-------------+--------------------------+--------------+------------------+--------+------------------+------------------+\n",
      "only showing top 10 rows\n",
      "\n"
     ]
    }
   ],
   "source": [
    "mydf.show(10)"
   ]
  },
  {
   "cell_type": "code",
   "execution_count": 35,
   "metadata": {},
   "outputs": [
    {
     "name": "stdout",
     "output_type": "stream",
     "text": [
      "+------------------+\n",
      "|Product_Category_3|\n",
      "+------------------+\n",
      "|              null|\n",
      "|              14.0|\n",
      "|              null|\n",
      "|              null|\n",
      "|              null|\n",
      "+------------------+\n",
      "only showing top 5 rows\n",
      "\n"
     ]
    }
   ],
   "source": [
    "mydf.select('Product_Category_3').show(5)"
   ]
  },
  {
   "cell_type": "code",
   "execution_count": 36,
   "metadata": {},
   "outputs": [
    {
     "name": "stdout",
     "output_type": "stream",
     "text": [
      "+-------+------------------+------------------+------------------+--------------+\n",
      "|User_ID|Product_Category_1|Product_Category_2|Product_Category_3|Marital_Status|\n",
      "+-------+------------------+------------------+------------------+--------------+\n",
      "|   5891|                20|                17|                15|             2|\n",
      "+-------+------------------+------------------+------------------+--------------+\n",
      "\n"
     ]
    }
   ],
   "source": [
    "catCols = ['User_ID','Product_Category_1','Product_Category_2','Product_Category_3','Marital_Status']\n",
    "mydf.select([countDistinct(c).alias(c)\n",
    "              for c in catCols]).show()"
   ]
  },
  {
   "cell_type": "code",
   "execution_count": null,
   "metadata": {},
   "outputs": [],
   "source": []
  },
  {
   "cell_type": "code",
   "execution_count": null,
   "metadata": {},
   "outputs": [],
   "source": []
  },
  {
   "cell_type": "code",
   "execution_count": null,
   "metadata": {},
   "outputs": [],
   "source": []
  }
 ],
 "metadata": {
  "kernelspec": {
   "display_name": "Python 3",
   "language": "python",
   "name": "python3"
  },
  "language_info": {
   "codemirror_mode": {
    "name": "ipython",
    "version": 3
   },
   "file_extension": ".py",
   "mimetype": "text/x-python",
   "name": "python",
   "nbconvert_exporter": "python",
   "pygments_lexer": "ipython3",
   "version": "3.5.2"
  }
 },
 "nbformat": 4,
 "nbformat_minor": 2
}
